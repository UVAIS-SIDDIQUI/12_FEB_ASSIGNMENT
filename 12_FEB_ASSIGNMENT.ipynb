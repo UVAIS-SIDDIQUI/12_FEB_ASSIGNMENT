{
 "cells": [
  {
   "cell_type": "code",
   "execution_count": 1,
   "id": "66cfe852-e7ed-4f90-bc8c-fb85af16c8e5",
   "metadata": {},
   "outputs": [],
   "source": [
    "# Q1. What is Exception in python? Write the differencee bettween Exceptions and syntax errors."
   ]
  },
  {
   "cell_type": "markdown",
   "id": "cba81b35-2cec-4793-924d-70f57fa2ea9a",
   "metadata": {},
   "source": [
    "ANS = An exception is an error that happens while a program is being executed and prevents the instructions from following their regular course. Python raises an exception when a special circumstance occurs to indicate that something unexpected or incorrect has occurred. These exceptions might result in the program being terminated if they are not correctly handled.\n",
    "\n",
    "-->Difference between Exceptions and Syntax Errors:\n",
    "\n",
    "Syntax Errors:\n",
    "\n",
    "Syntax errors, also known as parsing errors, occur when the Python interpreter encounters code that does not follow the language's syntax rules.\n",
    "These errors prevent the code from being parsed and compiled, so the program cannot even start executing.\n",
    "Common examples of syntax errors include misspelled keywords, missing colons, mismatched parentheses, etc.\n",
    "Syntax errors are caught by the Python interpreter during the initial parsing phase, and they must be fixed before the program can run.\n",
    "\n",
    "Exceptions:\n",
    "\n",
    "Exceptions, on the other hand, occur during the runtime of a program when an operation cannot be executed as intended.\n",
    "Exceptions can be caused by various factors like dividing by zero, trying to access an index that does not exist in a list, or attempting to open a file that doesn't exist.\n",
    "Unlike syntax errors, exceptions are not detected during the initial parsing phase, and the program starts executing before they are raised.\n",
    "If an exception is not handled with appropriate error-handling mechanisms (like using try-except blocks), it will lead to an abrupt termination of the program."
   ]
  },
  {
   "cell_type": "code",
   "execution_count": 18,
   "id": "8a456513-f4e2-4a14-af46-8d5cb8367907",
   "metadata": {},
   "outputs": [],
   "source": [
    "import logging"
   ]
  },
  {
   "cell_type": "code",
   "execution_count": 19,
   "id": "0460c7fd-2218-4838-b5a0-bf809f3f9382",
   "metadata": {},
   "outputs": [],
   "source": [
    "logging.basicConfig(filename = \"Exception_file.log\" ,level = logging.INFO)"
   ]
  },
  {
   "cell_type": "code",
   "execution_count": 1,
   "id": "1aa34449-af05-4636-9f0e-fefc3f437154",
   "metadata": {},
   "outputs": [],
   "source": [
    "# Q2 What happens when an Exception is not handled? Explain with an example."
   ]
  },
  {
   "cell_type": "markdown",
   "id": "beb4b1ca-e5ca-4eb8-a56a-eb8d865089cf",
   "metadata": {},
   "source": [
    "ANS = When an exception is not handled in Python, it results in an \"unhandled exception,\" causing the program to terminate abruptly. The Python interpreter displays an error traceback that shows the details of the exception, including the type of exception and the stack trace, which points to the location in the code where the exception occurred.\n",
    "\n",
    "Here's an example to illustrate what happens when an exception is not handled:"
   ]
  },
  {
   "cell_type": "code",
   "execution_count": 21,
   "id": "349eccfb-4874-48f2-991e-c13ff3fe2668",
   "metadata": {},
   "outputs": [
    {
     "name": "stdin",
     "output_type": "stream",
     "text": [
      "Enter the first number:  45\n",
      "Enter the second number:  45\n"
     ]
    },
    {
     "name": "stdout",
     "output_type": "stream",
     "text": [
      "The result of the division is: 1.0\n"
     ]
    }
   ],
   "source": [
    "def divide_numbers(a, b):\n",
    "    result = a / b\n",
    "    return result\n",
    "logging.info(\"this is for num1 input\")\n",
    "num1 = int(input(\"Enter the first number: \"))\n",
    "logging.info(\"this is for num2 input\")\n",
    "num2 = int(input(\"Enter the second number: \"))\n",
    "result = divide_numbers(num1, num2)\n",
    "print(f\"The result of the division is: {result}\")\n",
    "logging.info(\"then result is after exiution is if the input for num1 45 and num2 45 then result is    Enter the first number:  45 Enter the second number  45 The result of the division is 1.0 \")"
   ]
  },
  {
   "cell_type": "markdown",
   "id": "d93e1bc9-9b1c-4baa-ac85-3cca45c9bde5",
   "metadata": {},
   "source": [
    "In this example, we have a simple program that takes two integers as input from the user, performs division using the divide_numbers function, and prints the result.\n",
    "\n",
    "Now, let's consider two scenarios:\n",
    "\n",
    "Example 1: Valid input\n",
    "\n",
    "Enter the first number: 10\n",
    "Enter the second number: 2\n",
    "The result of the division is: 5.0\n",
    "\n",
    "\n",
    "In this scenario, the user entered valid input (integer values), and the division operation proceeds without any issues. The program prints the result as expected.\n",
    "\n",
    "Example 2: Invalid input\n",
    "\n",
    "\n",
    "Enter the first number: 10\n",
    "Enter the second number: 0\n",
    "\n",
    "\n",
    "\n",
    "In this case, the user entered '0' as the second number. When the program executes the divide_numbers function, it tries to perform division by zero, which is not allowed in mathematics and raises a ZeroDivisionError exception.\n",
    "\n",
    "Since there is no try-except block to catch this exception, the Python interpreter raises the exception and displays an error traceback:\n",
    "\n",
    "\n",
    "Traceback (most recent call last):\n",
    "  File \"example.py\", line 6, in <module>\n",
    "    result = divide_numbers(num1, num2)\n",
    "  File \"example.py\", line 2, in divide_numbers\n",
    "    result = a / b\n",
    "ZeroDivisionError: division by zero\n",
    "    \n",
    "    \n",
    "--> As you can see, the program terminates abruptly, and the traceback points to the exact line where the exception occurred (result = a / b). The subsequent print statement is not executed, and the user does not receive any information about the exception.\n",
    "\n",
    "When an exception is not handled, it can lead to unintended program termination and might not provide a meaningful message to the user. In real-world scenarios, this behavior can be problematic, especially in critical applications or when interacting with users. Properly handling exceptions using try-except blocks allows you to gracefully handle exceptional situations, display appropriate error messages, and continue the program's execution when possible."
   ]
  },
  {
   "cell_type": "code",
   "execution_count": 5,
   "id": "e8d2fe4c-3d5b-4c68-a465-6c548b259af4",
   "metadata": {},
   "outputs": [],
   "source": [
    "#Q3 Which python statements are used to catch and handle  exceptions ? Explain with an exammple."
   ]
  },
  {
   "cell_type": "markdown",
   "id": "6f55e466-3769-49f4-b770-fa58b98e2087",
   "metadata": {},
   "source": [
    "ANS = In Python, the try, except, and optionally else and finally statements are used to catch and handle exceptions. These statements create what is called an \"exception handling\" or \"error handling\" mechanism in Python.\n",
    "\n",
    "1 .try statement:\n",
    "The try statement defines a block of code where you expect potential exceptions to occur. It allows you to monitor and handle exceptions that might be raised during the execution of the code inside the try block.\n",
    "\n",
    "2 .except statement:\n",
    "The except statement is used to specify the type of exception that you want to catch and handle. If an exception of the specified type (or any subclass of that type) occurs within the try block, the code inside the corresponding except block is executed.\n",
    "\n",
    "3.else statement (optional):\n",
    "The else statement is optional and can be used after a try-except block. Code inside the else block is executed if no exceptions occur in the try block. It is often used for code that should be executed when there are no exceptions.\n",
    "\n",
    "4.finally statement (optional):\n",
    "The finally statement is also optional and can be used after a try-except or try-except-else block. Code inside the finally block is always executed, regardless of whether an exception occurred or not. It is often used for cleanup tasks, such as closing files or releasing resources.\n",
    "\n",
    "--->You can have multiple except blocks to handle different types of exceptions, or you can have a single except block that catches all exceptions (not recommended for most cases as it can make debugging difficult)."
   ]
  },
  {
   "cell_type": "code",
   "execution_count": 6,
   "id": "e657eb5d-697a-4ba8-9b91-8b0178086281",
   "metadata": {},
   "outputs": [
    {
     "name": "stdin",
     "output_type": "stream",
     "text": [
      "Enter the first number:  30\n",
      "Enter the second number:  5\n"
     ]
    },
    {
     "name": "stdout",
     "output_type": "stream",
     "text": [
      "The result of the division is: 6.0\n",
      "Division successful.\n",
      "Execution completed.\n"
     ]
    }
   ],
   "source": [
    "try:\n",
    "    num1 = int(input(\"Enter the first number: \"))\n",
    "    num2 = int(input(\"Enter the second number: \"))\n",
    "    result = num1 / num2\n",
    "    print(f\"The result of the division is: {result}\")\n",
    "except ValueError:\n",
    "    print(\"Invalid input. Please enter valid integers.\")\n",
    "except ZeroDivisionError:\n",
    "    print(\"Cannot divide by zero. Please enter a non-zero second number.\")\n",
    "else:\n",
    "    print(\"Division successful.\")\n",
    "finally:\n",
    "    print(\"Execution completed.\")"
   ]
  },
  {
   "cell_type": "markdown",
   "id": "e88a9baa-e609-4a51-b739-e0b7c0ca137c",
   "metadata": {},
   "source": [
    "In this example, we use a try-except-else-finally block to handle exceptions. Depending on the user input, different exceptions may be raised (ValueError for non-integer inputs and ZeroDivisionError for dividing by zero). The appropriate except block will handle the respective exception, and the else and finally blocks will execute accordingly."
   ]
  },
  {
   "cell_type": "code",
   "execution_count": 7,
   "id": "7c3f1240-86e5-4450-8eec-c893de85adab",
   "metadata": {},
   "outputs": [],
   "source": [
    "# Q4 Explain with an example :\n",
    "# (a)try and else\n",
    "# (b)finally\n",
    "# (c)raise"
   ]
  },
  {
   "cell_type": "markdown",
   "id": "1575e621-90c3-43e4-b5f7-2ea1512238bc",
   "metadata": {},
   "source": [
    "(a) try and else:"
   ]
  },
  {
   "cell_type": "code",
   "execution_count": 8,
   "id": "ce140fc2-4c5e-42a2-9d5a-1e92910822f7",
   "metadata": {},
   "outputs": [
    {
     "name": "stdin",
     "output_type": "stream",
     "text": [
      "Enter the first number:  a\n"
     ]
    },
    {
     "name": "stdout",
     "output_type": "stream",
     "text": [
      "Invalid input. Please enter valid integers.\n"
     ]
    }
   ],
   "source": [
    "def divide_numbers(a, b):\n",
    "    return a / b\n",
    "\n",
    "try:\n",
    "    num1 = int(input(\"Enter the first number: \"))\n",
    "    num2 = int(input(\"Enter the second number: \"))\n",
    "    result = divide_numbers(num1, num2)\n",
    "except ValueError:\n",
    "    print(\"Invalid input. Please enter valid integers.\")\n",
    "else:\n",
    "    print(f\"The result of the division is: {result}\")\n"
   ]
  },
  {
   "cell_type": "markdown",
   "id": "c9634b6f-b9f1-4950-9e61-8c59408a5ed2",
   "metadata": {},
   "source": [
    "In this example, we have a function divide_numbers that performs division. The user is prompted to enter two numbers, which are then used as inputs to the divide_numbers function. If the user provides invalid input (non-integer values), a ValueError exception will be raised, and the program will print \"Invalid input. Please enter valid integers.\"\n",
    "\n",
    "However, if the user enters valid input, the division operation will be performed successfully without raising any exceptions. In that case, the else block will be executed, and the result of the division will be printed."
   ]
  },
  {
   "cell_type": "markdown",
   "id": "b7feeb0e-d2e5-4e12-850f-512ca7004c0d",
   "metadata": {},
   "source": [
    "(b) finally:"
   ]
  },
  {
   "cell_type": "code",
   "execution_count": 9,
   "id": "b97dcbf4-1a45-4988-a045-c2f6c001d4fd",
   "metadata": {},
   "outputs": [
    {
     "name": "stdin",
     "output_type": "stream",
     "text": [
      "Enter the first number:  5\n",
      "Enter the second number:  0\n"
     ]
    },
    {
     "name": "stdout",
     "output_type": "stream",
     "text": [
      "Cannot divide by zero.\n",
      "Division operation completed.\n"
     ]
    }
   ],
   "source": [
    "def divide_numbers(a, b):\n",
    "    try:\n",
    "        result = a / b\n",
    "    except ZeroDivisionError:\n",
    "        print(\"Cannot divide by zero.\")\n",
    "    else:\n",
    "        print(f\"The result of the division is: {result}\")\n",
    "    finally:\n",
    "        print(\"Division operation completed.\")\n",
    "\n",
    "num1 = int(input(\"Enter the first number: \"))\n",
    "num2 = int(input(\"Enter the second number: \"))\n",
    "divide_numbers(num1, num2)\n"
   ]
  },
  {
   "cell_type": "markdown",
   "id": "f6b47932-95e0-4ac3-bf43-445af3497c33",
   "metadata": {},
   "source": [
    "In this example, the divide_numbers function contains a try-except-else-finally block. If the user tries to divide by zero, a ZeroDivisionError exception will be caught in the except block, and the message \"Cannot divide by zero.\" will be printed.\n",
    "\n",
    "Regardless of whether an exception occurs or not, the finally block will always be executed. In this case, it prints \"Division operation completed.\" This can be useful for performing cleanup tasks or releasing resources, which are guaranteed to be executed no matter what happens inside the try block."
   ]
  },
  {
   "cell_type": "markdown",
   "id": "debac8c9-4a8c-4e06-8712-6598db391224",
   "metadata": {},
   "source": [
    "(c) raise:"
   ]
  },
  {
   "cell_type": "code",
   "execution_count": 11,
   "id": "42afffa6-0054-4533-b6d8-c74720ca0105",
   "metadata": {},
   "outputs": [
    {
     "name": "stdin",
     "output_type": "stream",
     "text": [
      "Enter the deposit amount:  -45\n"
     ]
    },
    {
     "name": "stdout",
     "output_type": "stream",
     "text": [
      "Error: Deposit amount must be greater than zero.\n"
     ]
    }
   ],
   "source": [
    "def deposit(amount):\n",
    "    if amount <= 0:\n",
    "        raise ValueError(\"Deposit amount must be greater than zero.\")\n",
    "    else:\n",
    "        print(f\"Deposited {amount} dollars.\")\n",
    "\n",
    "try:\n",
    "    deposit_amount = int(input(\"Enter the deposit amount: \"))\n",
    "    deposit(deposit_amount)\n",
    "except ValueError as e:\n",
    "    print(f\"Error: {e}\")\n"
   ]
  },
  {
   "cell_type": "markdown",
   "id": "0db6b0d8-19b2-4080-a471-eea12bf0a320",
   "metadata": {},
   "source": [
    "In this example, we have a function deposit that takes an amount as input and simulates a deposit operation. However, we want to ensure that the deposit amount is greater than zero. If the user provides a non-positive amount (zero or negative), we raise a ValueError with a custom error message using the raise keyword.\n",
    "\n",
    "In the try block, the user is prompted to enter the deposit amount, and the deposit function is called with the entered amount. If a ValueError is raised inside the deposit function, it will be caught in the except block, and the custom error message will be printed.\n",
    "\n",
    "--->These examples illustrate how to use try, else, finally, and raise to handle exceptions and create robust error-handling mechanisms in Python programs.<---"
   ]
  },
  {
   "cell_type": "code",
   "execution_count": 13,
   "id": "82f91b4d-903f-4cfc-98ec-06cfd3962e2c",
   "metadata": {},
   "outputs": [],
   "source": [
    "# Q5 what are custom ExceptionS in python? Why do we need custom Exceptions? Explain with an examples."
   ]
  },
  {
   "cell_type": "markdown",
   "id": "9c177bb5-3d4b-4d96-8467-ba834268028b",
   "metadata": {},
   "source": [
    "ANS =  Custom exceptions in Python are user-defined exception classes that allow you to create your own types of exceptions. By creating custom exceptions, you can define specific error scenarios that are relevant to your application or domain and provide more informative and specialized error messages to users or developers.\n",
    "\n",
    "We need custom exceptions for the following reasons:\n",
    "\n",
    "Specialized Error Handling: Custom exceptions allow you to handle specific error cases in a more granular and specialized way. This can help in providing clearer error messages and making the code more maintainable.\n",
    "\n",
    "Better Abstraction: By defining custom exceptions, you can abstract away implementation details from the error handling code, making the code more modular and readable.\n",
    "\n",
    "Enhanced Debugging: Custom exceptions can include additional attributes or methods that provide extra information about the error, which can be helpful during debugging.\n",
    "\n",
    "Documentation and Clarity: Well-defined custom exceptions can serve as documentation for other developers, providing insights into the expected errors and how they should be "
   ]
  },
  {
   "cell_type": "markdown",
   "id": "0097d335-a26f-40e2-87a5-d87ace6bbb5f",
   "metadata": {},
   "source": [
    "lets see an example:"
   ]
  },
  {
   "cell_type": "code",
   "execution_count": 15,
   "id": "1b5db30e-02e8-4b0c-aa66-e0ed11ea0357",
   "metadata": {},
   "outputs": [
    {
     "name": "stdin",
     "output_type": "stream",
     "text": [
      "enter your age -45\n"
     ]
    },
    {
     "name": "stdout",
     "output_type": "stream",
     "text": [
      "entered age is negative \n"
     ]
    }
   ],
   "source": [
    "class validateage(Exception):\n",
    "    \n",
    "    def __init__(self , msg) : \n",
    "        self.msg = msg\n",
    "def validaetage(age) : \n",
    "    if age < 0 :\n",
    "        raise validateage(\"entered age is negative \" )\n",
    "    elif age > 200 : \n",
    "        raise validateage(\"enterd age is very very high \" )\n",
    "    else :\n",
    "        print(\"age is valid\" )\n",
    "try :\n",
    "    age = int(input(\"enter your age\" ))\n",
    "    validaetage(age)\n",
    "except validateage as e :\n",
    "    print(e)"
   ]
  },
  {
   "cell_type": "code",
   "execution_count": 16,
   "id": "55b8ed7d-047f-449a-8202-4fef97f8a02c",
   "metadata": {},
   "outputs": [],
   "source": [
    "# Q6 Create a custom exception class .Use this class to hanlde an exception."
   ]
  },
  {
   "cell_type": "code",
   "execution_count": 17,
   "id": "24beba3b-a12d-46e0-9a67-3d76a7351f4c",
   "metadata": {},
   "outputs": [
    {
     "name": "stdin",
     "output_type": "stream",
     "text": [
      "enter your age 23\n"
     ]
    },
    {
     "name": "stdout",
     "output_type": "stream",
     "text": [
      "age is valid\n"
     ]
    }
   ],
   "source": [
    "class validateage(Exception):\n",
    "    \n",
    "    def __init__(self , msg) : \n",
    "        self.msg = msg\n",
    "def validaetage(age) : \n",
    "    if age < 0 :\n",
    "        raise validateage(\"entered age is negative \" )\n",
    "    elif age > 200 : \n",
    "        raise validateage(\"enterd age is very very high \" )\n",
    "    else :\n",
    "        print(\"age is valid\" )\n",
    "try :\n",
    "    age = int(input(\"enter your age\" ))\n",
    "    validaetage(age)\n",
    "except validateage as e :\n",
    "    print(e)"
   ]
  },
  {
   "cell_type": "code",
   "execution_count": null,
   "id": "709bd06b-5937-47b4-a29d-f5d289dbd0f8",
   "metadata": {},
   "outputs": [],
   "source": []
  }
 ],
 "metadata": {
  "kernelspec": {
   "display_name": "Python 3 (ipykernel)",
   "language": "python",
   "name": "python3"
  },
  "language_info": {
   "codemirror_mode": {
    "name": "ipython",
    "version": 3
   },
   "file_extension": ".py",
   "mimetype": "text/x-python",
   "name": "python",
   "nbconvert_exporter": "python",
   "pygments_lexer": "ipython3",
   "version": "3.10.8"
  }
 },
 "nbformat": 4,
 "nbformat_minor": 5
}
